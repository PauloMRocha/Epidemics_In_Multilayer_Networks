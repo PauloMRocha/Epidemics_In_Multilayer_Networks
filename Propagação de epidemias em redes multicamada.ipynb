{
 "cells": [
  {
   "cell_type": "markdown",
   "metadata": {},
   "source": [
    "# Propagação de epidemias em redes multicamada\n",
    "\n",
    "Alunos:<br>\n",
    "Caio Marcos Chaves Viana - 11208217<br>\n",
    "Maria Teresa Raetano Cardoso - 10748604<br>\n",
    "Paulo Matana da Rocha - 10892676"
   ]
  },
  {
   "cell_type": "markdown",
   "metadata": {},
   "source": [
    "## Introdução\n",
    "\n",
    "Esse trabalho visa comparar a propagaçã de epidemias em redes complexas, com uma ou mais camadas. Para isso desenvolvemos um pequeno fremework que realiza a conversão de redes geradas pela biblioteca Networkx em redes multicamada presentes na bilioteca pymnet. Também criamos funções capazes de simular os modelos de epidemia SIS, SIR e SIRS em redes com multiplas camadas."
   ]
  },
  {
   "cell_type": "markdown",
   "metadata": {},
   "source": [
    "## Modelagem em multiplas camadas\n",
    "\n",
    "As simulações usadas no projeto seguem a ideia de uma maquina de estado que simula uma cadeia de Markov. O modelo realiza uma simulação com tempo discreto e atualização sincrona dos individuos, ou seja, todos os individuos são atualizado antes de realizar a atualização do tempo.\n",
    "Em redes de uma camada temos que a simulação pode ser explicada pela imagem a seguir:"
   ]
  },
  {
   "cell_type": "markdown",
   "metadata": {},
   "source": [
    "<img src=\"models_SL.png\" width=\"400\"/>"
   ]
  },
  {
   "cell_type": "markdown",
   "metadata": {},
   "source": [
    "Nas redes multicamadas os vertices de mesmo indice em diferentes camadas indicam o mesmo individuo em redes diferentes. Dois o mesmo individuo pode possuim uma relação que conecta ele a ele mesmo em diferentes camadas, essa ligação é chamada de **inter-aresta** e pode possuim um valor que represente sua força. Pra modelar a propagação de epidemias em redes com mais de uma camada levando em consideração esses conceitos criamos um sistema onde o vértice pode infectar a si mesmo em outras camadas por meio de uma **inter-aresta**, além disso consideramos que a epidemia trata-se de um mesmo agente em todas as camadas, dessa forma quando um individuo se recupera em uma camada ele se recupera em todas. Podemos entender melhor o sistema olhando o diagrama a seguir, que representa o modelo SIR em uma rede de 3 camadas:"
   ]
  },
  {
   "cell_type": "markdown",
   "metadata": {},
   "source": [
    "<img src=\"SIR_ML.png\" width=\"500\"/>"
   ]
  },
  {
   "cell_type": "markdown",
   "metadata": {},
   "source": [
    "No esquema vemos a progressão de um unico individuo nas camadas **A**, **B** e **C**. Podemos ver que nesse modelo existe um valor $\\lambda$ que representa a força da ligação intercamada desse individuo. Para os modelos SIS e SIRS temos criamos modelos analogos onde um infectado pode infectar a si mesmo em outras camadas."
   ]
  },
  {
   "cell_type": "code",
   "execution_count": null,
   "metadata": {},
   "outputs": [],
   "source": []
  }
 ],
 "metadata": {
  "kernelspec": {
   "display_name": "Python 3 (ipykernel)",
   "language": "python",
   "name": "python3"
  },
  "language_info": {
   "codemirror_mode": {
    "name": "ipython",
    "version": 3
   },
   "file_extension": ".py",
   "mimetype": "text/x-python",
   "name": "python",
   "nbconvert_exporter": "python",
   "pygments_lexer": "ipython3",
   "version": "3.8.10"
  }
 },
 "nbformat": 4,
 "nbformat_minor": 4
}
